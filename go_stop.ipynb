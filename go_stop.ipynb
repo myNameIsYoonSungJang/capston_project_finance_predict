{
 "cells": [
  {
   "cell_type": "code",
   "execution_count": 1,
   "metadata": {},
   "outputs": [
    {
     "name": "stdout",
     "output_type": "stream",
     "text": [
      "[-100, 200, -100]\n",
      "[-100, -200, 300]\n",
      "[-600, 1200, -600]\n",
      "[-1300, 1900, -600]\n",
      "[3700, -1200, -2500]\n",
      "[-100, 200, -100]\n",
      "[-600, 1200, -600]\n",
      "[-700, -1500, 2200]\n",
      "[-200, 300, -100]\n",
      "[-200, 400, -200]\n",
      "[-200, -100, 300]\n",
      "[-300, -100, 400]\n",
      "[-3700, -3700, 7400]\n",
      "[300, -200, -100]\n",
      "[200, -100, -100]\n",
      "[400, -200, -200]\n",
      "[-300, 600, -300]\n",
      "[-100, -100, 200]\n",
      "[1000, -700, -300]\n",
      "[-200, 400, -200]\n",
      "[900, -300, -600]\n",
      "[200, -100, -100]\n",
      "[-100, -100, 200]\n",
      "[-200, -200, 400]\n",
      "[1000, -500, -500]\n",
      "[600, -400, -200]\n",
      "[1200, -400, -800]\n",
      "[[0, 0, 0], [0, 0, 0], [0, 0, 0]]\n"
     ]
    }
   ],
   "source": [
    "import sys\n",
    "sys.stdin = open(\"input.txt\", \"r\")\n",
    "input = sys.stdin.readline\n",
    "\n",
    "# result = [[0,0,0] for _ in range(3)]\n",
    "# 나 윤주 엄마\n",
    "game_money = [[0, 0, 0] for _ in range(3)]\n",
    "\n",
    "for i in range(27):\n",
    "    game = list(map(int, input().split()))\n",
    "    winner = 0\n",
    "    tmp_money = [0,0,0]\n",
    "    for j in range(len(game)):\n",
    "        if game[j] == 0:\n",
    "            winner = j\n",
    "        else:\n",
    "            tmp_money[j] -= (game[j]-1)//2 * 100\n",
    "    tmp_money[winner] = -1*sum(tmp_money)\n",
    "    print(tmp_money)\n",
    "    \n",
    "    for row in range(len(game_money)):\n",
    "        for col in range(len(game_money[0])):\n",
    "            if winner == col:\n",
    "                continue\n",
    "            # else:\n",
    "        \n",
    "print(game_money)"
   ]
  },
  {
   "cell_type": "code",
   "execution_count": null,
   "metadata": {},
   "outputs": [],
   "source": []
  }
 ],
 "metadata": {
  "kernelspec": {
   "display_name": "base",
   "language": "python",
   "name": "python3"
  },
  "language_info": {
   "codemirror_mode": {
    "name": "ipython",
    "version": 3
   },
   "file_extension": ".py",
   "mimetype": "text/x-python",
   "name": "python",
   "nbconvert_exporter": "python",
   "pygments_lexer": "ipython3",
   "version": "3.9.13"
  }
 },
 "nbformat": 4,
 "nbformat_minor": 2
}
